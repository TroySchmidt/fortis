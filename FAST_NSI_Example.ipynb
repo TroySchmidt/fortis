{
 "cells": [
  {
   "cell_type": "markdown",
   "metadata": {},
   "source": [
    "# Setup Environment\n",
    "Configure the Google Colab environment for working with geospatial data."
   ]
  },
  {
   "cell_type": "code",
   "execution_count": null,
   "metadata": {},
   "outputs": [],
   "source": [
    "# Setup Environment\n",
    "\n",
    "# Install necessary packages\n",
    "!pip install geopandas\n",
    "!pip install pandas\n",
    "\n",
    "# Import required libraries\n",
    "import os\n",
    "import pandas as pd\n",
    "import geopandas as gpd\n",
    "\n",
    "# Verify installations\n",
    "print(\"Geopandas version:\", gpd.__version__)\n",
    "print(\"Pandas version:\", pd.__version__)"
   ]
  },
  {
   "cell_type": "markdown",
   "metadata": {},
   "source": [
    "# Download the NSI data\n",
    "Need to download the NSI data from the site."
   ]
  },
  {
   "cell_type": "code",
   "execution_count": null,
   "metadata": {},
   "outputs": [],
   "source": [
    "# Install required packages if needed\n",
    "!pip install requests tqdm\n",
    "\n",
    "import requests\n",
    "import os\n",
    "import zipfile\n",
    "from tqdm.notebook import tqdm\n",
    "\n",
    "def download_and_extract_zip(url, target_dir=\".\"):\n",
    "    \"\"\"\n",
    "    Download a zip file from a URL and extract its contents.\n",
    "    \n",
    "    Args:\n",
    "        url (str): URL of the zip file to download\n",
    "        target_dir (str): Directory to extract the contents to\n",
    "    \"\"\"\n",
    "    # Create target directory if it doesn't exist\n",
    "    os.makedirs(target_dir, exist_ok=True)\n",
    "    \n",
    "    # Get the filename from URL\n",
    "    filename = url.split('/')[-1]\n",
    "    filepath = os.path.join(target_dir, filename)\n",
    "    \n",
    "    # Download the file with progress bar\n",
    "    print(f\"Downloading {filename}...\")\n",
    "    response = requests.get(url, stream=True)\n",
    "    total_size = int(response.headers.get('content-length', 0))\n",
    "    \n",
    "    with open(filepath, 'wb') as f, tqdm(\n",
    "            desc=filename,\n",
    "            total=total_size,\n",
    "            unit='B',\n",
    "            unit_scale=True,\n",
    "            unit_divisor=1024,\n",
    "        ) as bar:\n",
    "        for data in response.iter_content(chunk_size=1024):\n",
    "            size = f.write(data)\n",
    "            bar.update(size)\n",
    "    \n",
    "    # Extract the zip file\n",
    "    print(f\"Extracting {filename}...\")\n",
    "    with zipfile.ZipFile(filepath, 'r') as zip_ref:\n",
    "        zip_ref.extractall(target_dir)\n",
    "    \n",
    "    print(f\"Download and extraction complete. Files extracted to {target_dir}\")\n",
    "    \n",
    "    # Return the path to the extracted gpkg file (assumes there's only one gpkg file)\n",
    "    extracted_files = [f for f in os.listdir(target_dir) if f.endswith('.gpkg')]\n",
    "    if extracted_files:\n",
    "        return os.path.join(target_dir, extracted_files[0])\n",
    "    return None\n",
    "\n",
    "# Download and extract the NSI data\n",
    "nsi_url = \"https://nsi.sec.usace.army.mil/downloads/nsi_2022/nsi_2022_15.gpkg.zip\"\n",
    "gpkg_path = download_and_extract_zip(nsi_url, \"nsi_data\")\n",
    "\n",
    "print(f\"GeoPackage path: {gpkg_path}\")"
   ]
  },
  {
   "cell_type": "markdown",
   "metadata": {},
   "source": [
    "# Run the Analysis\n",
    "Implement the NsiBuildings class that handles loading and processing NSI building data from GeoPackage files."
   ]
  },
  {
   "cell_type": "code",
   "execution_count": null,
   "metadata": {},
   "outputs": [
    {
     "ename": "",
     "evalue": "",
     "output_type": "error",
     "traceback": [
      "\u001b[1;31mRunning cells with '.venv (Python 3.10.10)' requires the ipykernel package.\n",
      "\u001b[1;31mRun the following command to install 'ipykernel' into the Python environment. \n",
      "\u001b[1;31mCommand: 'c:/Source/fortis/.venv/Scripts/python.exe -m pip install ipykernel -U --force-reinstall'"
     ]
    }
   ],
   "source": [
    "import os\n",
    "from fortis.engine.analyses.hazus_flood import HazusFloodAnalysis\n",
    "from fortis.engine.models.flood_depth_grid import FloodDepthGrid\n",
    "from fortis.engine.vulnerability.default_flood import DefaultFloodFunction\n",
    "from fortis.engine.models.nsi_buildings import NsiBuildings\n",
    "\n",
    "# Define file paths (adjust these paths as necessary)\n",
    "base_dir = os.path.dirname(__file__)\n",
    "buildings_gpkg = os.path.join(base_dir, \"nsi_2022_15.gpkg\")\n",
    "tif_file = os.path.join(base_dir, \"Oahu_10_withReef.tif\")\n",
    "\n",
    "# Load NSI buildings data from GPKG\n",
    "buildings = NsiBuildings(buildings_gpkg, \"nsi\")\n",
    "\n",
    "# Read the depth grid from the TIFF file\n",
    "depth_grid = FloodDepthGrid(tif_file)\n",
    "\n",
    "# Create an instance of the default flood function\n",
    "flood_function = DefaultFloodFunction(buildings, flood_type=\"R\")\n",
    "\n",
    "# Create the Hazus flood analyzer instance\n",
    "analyzer = HazusFloodAnalysis(\n",
    "    buildings=buildings,\n",
    "    vulnerability_func=flood_function,\n",
    "    depth_grid=depth_grid,\n",
    ")\n",
    "\n",
    "# Calculate losses using the analysis\n",
    "analyzer.calculate_losses()\n",
    "\n",
    "# Save the results to multiple formats\n",
    "results_base = os.path.join(base_dir, \"nsi_flood_losses\")\n",
    "\n",
    "# 1. Save as CSV\n",
    "csv_path = f\"{results_base}.csv\"\n",
    "buildings.gdf.to_csv(csv_path, index=False)\n",
    "\n",
    "# 2. Save as GeoPackage\n",
    "gpkg_path = f\"{results_base}.gpkg\"\n",
    "buildings.gdf.to_file(gpkg_path, driver=\"GPKG\")\n",
    "\n",
    "print(f\"NSI Flood analysis of {len(buildings.gdf):,} buildings complete.\")\n",
    "print(f\"Results saved to:\")\n",
    "print(f\"  - CSV: {csv_path}\")\n",
    "print(f\"  - GeoPackage: {gpkg_path}\")"
   ]
  },
  {
   "cell_type": "markdown",
   "metadata": {},
   "source": [
    "# Visualize Building Data\n",
    "Create visualizations of the NSI building data including maps of building locations and foundation types."
   ]
  },
  {
   "cell_type": "code",
   "execution_count": null,
   "metadata": {},
   "outputs": [],
   "source": [
    "# Visualize Building Data\n",
    "\n",
    "# Import necessary libraries for visualization\n",
    "import matplotlib.pyplot as plt\n",
    "import contextily as ctx\n",
    "\n",
    "# Plot the building locations\n",
    "fig, ax = plt.subplots(figsize=(10, 10))\n",
    "gdf.plot(ax=ax, marker='o', color='red', markersize=5, alpha=0.5)\n",
    "ctx.add_basemap(ax, crs=gdf.crs.to_string(), source=ctx.providers.Stamen.TonerLite)\n",
    "ax.set_title(\"Building Locations\")\n",
    "plt.show()\n",
    "\n",
    "# Plot the foundation types\n",
    "fig, ax = plt.subplots(figsize=(10, 10))\n",
    "gdf.plot(column='foundation_type', ax=ax, legend=True, legend_kwds={'bbox_to_anchor': (1, 1)})\n",
    "ctx.add_basemap(ax, crs=gdf.crs.to_string(), source=ctx.providers.Stamen.TonerLite)\n",
    "ax.set_title(\"Building Foundation Types\")\n",
    "plt.show()"
   ]
  }
 ],
 "metadata": {
  "kernelspec": {
   "display_name": ".venv",
   "language": "python",
   "name": "python3"
  },
  "language_info": {
   "name": "python",
   "version": "3.10.10"
  }
 },
 "nbformat": 4,
 "nbformat_minor": 2
}
